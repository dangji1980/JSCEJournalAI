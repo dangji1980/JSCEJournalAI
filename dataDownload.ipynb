{
  "nbformat": 4,
  "nbformat_minor": 0,
  "metadata": {
    "colab": {
      "name": "dataDownload.ipynb",
      "provenance": [],
      "authorship_tag": "ABX9TyORn4uLJVFO+DkkUwIp6yFU",
      "include_colab_link": true
    },
    "kernelspec": {
      "name": "python3",
      "display_name": "Python 3"
    }
  },
  "cells": [
    {
      "cell_type": "markdown",
      "metadata": {
        "id": "view-in-github",
        "colab_type": "text"
      },
      "source": [
        "<a href=\"https://colab.research.google.com/github/dangji1980/JSCEJournalAI/blob/master/dataDownload.ipynb\" target=\"_parent\"><img src=\"https://colab.research.google.com/assets/colab-badge.svg\" alt=\"Open In Colab\"/></a>"
      ]
    },
    {
      "cell_type": "code",
      "metadata": {
        "id": "ZBahVa20xY0k",
        "colab_type": "code",
        "colab": {}
      },
      "source": [
        "from google_drive_downloader import GoogleDriveDownloader\n"
      ],
      "execution_count": null,
      "outputs": []
    },
    {
      "cell_type": "code",
      "metadata": {
        "id": "wwY87Ye0y1s_",
        "colab_type": "code",
        "colab": {
          "base_uri": "https://localhost:8080/",
          "height": 68
        },
        "outputId": "faa83177-b9f1-4498-cd8a-f6b331ef7ea9"
      },
      "source": [
        "#https://drive.google.com/file/d/1RnvfqcM9rWyZTWaxRDwhgzOLyf-RQ3Ap/view?usp=sharing\n",
        "GoogleDriveDownloader.download_file_from_google_drive(file_id='1RnvfqcM9rWyZTWaxRDwhgzOLyf-RQ3Ap',\n",
        "                                                      dest_path=\"./Pics.zip\",\n",
        "                                                      unzip=True)\n",
        "!rm Pics.zip        \n",
        "!ls"
      ],
      "execution_count": null,
      "outputs": [
        {
          "output_type": "stream",
          "text": [
            "Downloading 1RnvfqcM9rWyZTWaxRDwhgzOLyf-RQ3Ap into ./Pics.zip... Done.\n",
            "Unzipping...Done.\n",
            "images\t__MACOSX  Pics\tsample_data\n"
          ],
          "name": "stdout"
        }
      ]
    }
  ]
}