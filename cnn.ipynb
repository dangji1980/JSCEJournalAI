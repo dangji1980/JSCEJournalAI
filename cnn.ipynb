{
  "nbformat": 4,
  "nbformat_minor": 0,
  "metadata": {
    "kernelspec": {
      "display_name": "Python 3",
      "language": "python",
      "name": "python3"
    },
    "language_info": {
      "codemirror_mode": {
        "name": "ipython",
        "version": 3
      },
      "file_extension": ".py",
      "mimetype": "text/x-python",
      "name": "python",
      "nbconvert_exporter": "python",
      "pygments_lexer": "ipython3",
      "version": "3.7.6"
    },
    "colab": {
      "name": "cnn.ipynb",
      "provenance": [],
      "include_colab_link": true
    },
    "accelerator": "GPU"
  },
  "cells": [
    {
      "cell_type": "markdown",
      "metadata": {
        "id": "view-in-github",
        "colab_type": "text"
      },
      "source": [
        "<a href=\"https://colab.research.google.com/github/dangji1980/JSCEJournalAI/blob/master/cnn.ipynb\" target=\"_parent\"><img src=\"https://colab.research.google.com/assets/colab-badge.svg\" alt=\"Open In Colab\"/></a>"
      ]
    },
    {
      "cell_type": "markdown",
      "metadata": {
        "id": "pyjaHprpZjhh",
        "colab_type": "text"
      },
      "source": [
        "## "
      ]
    },
    {
      "cell_type": "code",
      "metadata": {
        "id": "CSy27uCueqqg",
        "colab_type": "code",
        "colab": {
          "base_uri": "https://localhost:8080/"
        },
        "outputId": "ba6ca8ba-11bd-4b57-d0d8-e1d1e3c4d4e7"
      },
      "source": [
        "from google.colab import drive\n",
        "drive.mount('/content/drive')\n",
        "import os\n",
        "os.chdir('./drive/My Drive/Colab Notebooks/CNN')"
      ],
      "execution_count": null,
      "outputs": [
        {
          "output_type": "error",
          "ename": "TIMEOUT",
          "evalue": "ignored",
          "traceback": [
            "\u001b[0;31m---------------------------------------------------------------------------\u001b[0m",
            "\u001b[0;31mTIMEOUT\u001b[0m                                   Traceback (most recent call last)",
            "\u001b[0;32m<ipython-input-5-ad9c4dd9efb3>\u001b[0m in \u001b[0;36m<module>\u001b[0;34m()\u001b[0m\n\u001b[1;32m      1\u001b[0m \u001b[0;32mfrom\u001b[0m \u001b[0mgoogle\u001b[0m\u001b[0;34m.\u001b[0m\u001b[0mcolab\u001b[0m \u001b[0;32mimport\u001b[0m \u001b[0mdrive\u001b[0m\u001b[0;34m\u001b[0m\u001b[0;34m\u001b[0m\u001b[0m\n\u001b[0;32m----> 2\u001b[0;31m \u001b[0mdrive\u001b[0m\u001b[0;34m.\u001b[0m\u001b[0mmount\u001b[0m\u001b[0;34m(\u001b[0m\u001b[0;34m'/content/drive'\u001b[0m\u001b[0;34m)\u001b[0m\u001b[0;34m\u001b[0m\u001b[0;34m\u001b[0m\u001b[0m\n\u001b[0m\u001b[1;32m      3\u001b[0m \u001b[0;32mimport\u001b[0m \u001b[0mos\u001b[0m\u001b[0;34m\u001b[0m\u001b[0;34m\u001b[0m\u001b[0m\n\u001b[1;32m      4\u001b[0m \u001b[0mos\u001b[0m\u001b[0;34m.\u001b[0m\u001b[0mchdir\u001b[0m\u001b[0;34m(\u001b[0m\u001b[0;34m'./drive/My Drive/Colab Notebooks/CNN'\u001b[0m\u001b[0;34m)\u001b[0m\u001b[0;34m\u001b[0m\u001b[0;34m\u001b[0m\u001b[0m\n",
            "\u001b[0;32m/usr/local/lib/python3.6/dist-packages/google/colab/drive.py\u001b[0m in \u001b[0;36mmount\u001b[0;34m(mountpoint, force_remount, timeout_ms, use_metadata_server)\u001b[0m\n\u001b[1;32m    223\u001b[0m         \u001b[0moauth_prompt\u001b[0m\u001b[0;34m,\u001b[0m\u001b[0;34m\u001b[0m\u001b[0;34m\u001b[0m\u001b[0m\n\u001b[1;32m    224\u001b[0m         \u001b[0mproblem_and_stopped\u001b[0m\u001b[0;34m,\u001b[0m\u001b[0;34m\u001b[0m\u001b[0;34m\u001b[0m\u001b[0m\n\u001b[0;32m--> 225\u001b[0;31m         \u001b[0mdrive_exited\u001b[0m\u001b[0;34m,\u001b[0m\u001b[0;34m\u001b[0m\u001b[0;34m\u001b[0m\u001b[0m\n\u001b[0m\u001b[1;32m    226\u001b[0m     ])\n\u001b[1;32m    227\u001b[0m     \u001b[0;32mif\u001b[0m \u001b[0mcase\u001b[0m \u001b[0;34m==\u001b[0m \u001b[0;36m0\u001b[0m\u001b[0;34m:\u001b[0m\u001b[0;34m\u001b[0m\u001b[0;34m\u001b[0m\u001b[0m\n",
            "\u001b[0;32m/usr/local/lib/python3.6/dist-packages/pexpect/spawnbase.py\u001b[0m in \u001b[0;36mexpect\u001b[0;34m(self, pattern, timeout, searchwindowsize, async_, **kw)\u001b[0m\n\u001b[1;32m    342\u001b[0m         \u001b[0mcompiled_pattern_list\u001b[0m \u001b[0;34m=\u001b[0m \u001b[0mself\u001b[0m\u001b[0;34m.\u001b[0m\u001b[0mcompile_pattern_list\u001b[0m\u001b[0;34m(\u001b[0m\u001b[0mpattern\u001b[0m\u001b[0;34m)\u001b[0m\u001b[0;34m\u001b[0m\u001b[0;34m\u001b[0m\u001b[0m\n\u001b[1;32m    343\u001b[0m         return self.expect_list(compiled_pattern_list,\n\u001b[0;32m--> 344\u001b[0;31m                 timeout, searchwindowsize, async_)\n\u001b[0m\u001b[1;32m    345\u001b[0m \u001b[0;34m\u001b[0m\u001b[0m\n\u001b[1;32m    346\u001b[0m     def expect_list(self, pattern_list, timeout=-1, searchwindowsize=-1,\n",
            "\u001b[0;32m/usr/local/lib/python3.6/dist-packages/pexpect/spawnbase.py\u001b[0m in \u001b[0;36mexpect_list\u001b[0;34m(self, pattern_list, timeout, searchwindowsize, async_, **kw)\u001b[0m\n\u001b[1;32m    370\u001b[0m             \u001b[0;32mreturn\u001b[0m \u001b[0mexpect_async\u001b[0m\u001b[0;34m(\u001b[0m\u001b[0mexp\u001b[0m\u001b[0;34m,\u001b[0m \u001b[0mtimeout\u001b[0m\u001b[0;34m)\u001b[0m\u001b[0;34m\u001b[0m\u001b[0;34m\u001b[0m\u001b[0m\n\u001b[1;32m    371\u001b[0m         \u001b[0;32melse\u001b[0m\u001b[0;34m:\u001b[0m\u001b[0;34m\u001b[0m\u001b[0;34m\u001b[0m\u001b[0m\n\u001b[0;32m--> 372\u001b[0;31m             \u001b[0;32mreturn\u001b[0m \u001b[0mexp\u001b[0m\u001b[0;34m.\u001b[0m\u001b[0mexpect_loop\u001b[0m\u001b[0;34m(\u001b[0m\u001b[0mtimeout\u001b[0m\u001b[0;34m)\u001b[0m\u001b[0;34m\u001b[0m\u001b[0;34m\u001b[0m\u001b[0m\n\u001b[0m\u001b[1;32m    373\u001b[0m \u001b[0;34m\u001b[0m\u001b[0m\n\u001b[1;32m    374\u001b[0m     def expect_exact(self, pattern_list, timeout=-1, searchwindowsize=-1,\n",
            "\u001b[0;32m/usr/local/lib/python3.6/dist-packages/pexpect/expect.py\u001b[0m in \u001b[0;36mexpect_loop\u001b[0;34m(self, timeout)\u001b[0m\n\u001b[1;32m    179\u001b[0m             \u001b[0;32mreturn\u001b[0m \u001b[0mself\u001b[0m\u001b[0;34m.\u001b[0m\u001b[0meof\u001b[0m\u001b[0;34m(\u001b[0m\u001b[0me\u001b[0m\u001b[0;34m)\u001b[0m\u001b[0;34m\u001b[0m\u001b[0;34m\u001b[0m\u001b[0m\n\u001b[1;32m    180\u001b[0m         \u001b[0;32mexcept\u001b[0m \u001b[0mTIMEOUT\u001b[0m \u001b[0;32mas\u001b[0m \u001b[0me\u001b[0m\u001b[0;34m:\u001b[0m\u001b[0;34m\u001b[0m\u001b[0;34m\u001b[0m\u001b[0m\n\u001b[0;32m--> 181\u001b[0;31m             \u001b[0;32mreturn\u001b[0m \u001b[0mself\u001b[0m\u001b[0;34m.\u001b[0m\u001b[0mtimeout\u001b[0m\u001b[0;34m(\u001b[0m\u001b[0me\u001b[0m\u001b[0;34m)\u001b[0m\u001b[0;34m\u001b[0m\u001b[0;34m\u001b[0m\u001b[0m\n\u001b[0m\u001b[1;32m    182\u001b[0m         \u001b[0;32mexcept\u001b[0m\u001b[0;34m:\u001b[0m\u001b[0;34m\u001b[0m\u001b[0;34m\u001b[0m\u001b[0m\n\u001b[1;32m    183\u001b[0m             \u001b[0mself\u001b[0m\u001b[0;34m.\u001b[0m\u001b[0merrored\u001b[0m\u001b[0;34m(\u001b[0m\u001b[0;34m)\u001b[0m\u001b[0;34m\u001b[0m\u001b[0;34m\u001b[0m\u001b[0m\n",
            "\u001b[0;32m/usr/local/lib/python3.6/dist-packages/pexpect/expect.py\u001b[0m in \u001b[0;36mtimeout\u001b[0;34m(self, err)\u001b[0m\n\u001b[1;32m    142\u001b[0m             \u001b[0mexc\u001b[0m \u001b[0;34m=\u001b[0m \u001b[0mTIMEOUT\u001b[0m\u001b[0;34m(\u001b[0m\u001b[0mmsg\u001b[0m\u001b[0;34m)\u001b[0m\u001b[0;34m\u001b[0m\u001b[0;34m\u001b[0m\u001b[0m\n\u001b[1;32m    143\u001b[0m             \u001b[0mexc\u001b[0m\u001b[0;34m.\u001b[0m\u001b[0m__cause__\u001b[0m \u001b[0;34m=\u001b[0m \u001b[0;32mNone\u001b[0m    \u001b[0;31m# in Python 3.x we can use \"raise exc from None\"\u001b[0m\u001b[0;34m\u001b[0m\u001b[0;34m\u001b[0m\u001b[0m\n\u001b[0;32m--> 144\u001b[0;31m             \u001b[0;32mraise\u001b[0m \u001b[0mexc\u001b[0m\u001b[0;34m\u001b[0m\u001b[0;34m\u001b[0m\u001b[0m\n\u001b[0m\u001b[1;32m    145\u001b[0m \u001b[0;34m\u001b[0m\u001b[0m\n\u001b[1;32m    146\u001b[0m     \u001b[0;32mdef\u001b[0m \u001b[0merrored\u001b[0m\u001b[0;34m(\u001b[0m\u001b[0mself\u001b[0m\u001b[0;34m)\u001b[0m\u001b[0;34m:\u001b[0m\u001b[0;34m\u001b[0m\u001b[0;34m\u001b[0m\u001b[0m\n",
            "\u001b[0;31mTIMEOUT\u001b[0m: <pexpect.popen_spawn.PopenSpawn object at 0x7fa2e5f404e0>\nsearcher: searcher_re:\n    0: re.compile('google.colab.drive MOUNTED')\n    1: re.compile('root@19b9d0b1fc31-77edf389cc834be09decb8586307f291: ')\n    2: re.compile('(Go to this URL in a browser: https://.*)$')\n    3: re.compile('Drive File Stream encountered a problem and has stopped')\n    4: re.compile('drive EXITED')\n<pexpect.popen_spawn.PopenSpawn object at 0x7fa2e5f404e0>\nsearcher: searcher_re:\n    0: re.compile('google.colab.drive MOUNTED')\n    1: re.compile('root@19b9d0b1fc31-77edf389cc834be09decb8586307f291: ')\n    2: re.compile('(Go to this URL in a browser: https://.*)$')\n    3: re.compile('Drive File Stream encountered a problem and has stopped')\n    4: re.compile('drive EXITED')"
          ]
        }
      ]
    },
    {
      "cell_type": "code",
      "metadata": {
        "id": "84eDmQOJeOxQ",
        "colab_type": "code",
        "colab": {
          "base_uri": "https://localhost:8080/",
          "height": 697
        },
        "outputId": "e506b8bf-a2b8-46fa-904b-492d19ebf9a0"
      },
      "source": [
        "!nvidia-smi"
      ],
      "execution_count": null,
      "outputs": [
        {
          "output_type": "stream",
          "text": [
            "Wed Sep  2 11:00:27 2020       \n",
            "+-----------------------------------------------------------------------------+\n",
            "| NVIDIA-SMI 450.66       Driver Version: 418.67       CUDA Version: 10.1     |\n",
            "|-------------------------------+----------------------+----------------------+\n",
            "| GPU  Name        Persistence-M| Bus-Id        Disp.A | Volatile Uncorr. ECC |\n",
            "| Fan  Temp  Perf  Pwr:Usage/Cap|         Memory-Usage | GPU-Util  Compute M. |\n",
            "|                               |                      |               MIG M. |\n",
            "|===============================+======================+======================|\n",
            "|   0  Tesla P100-PCIE...  Off  | 00000000:00:04.0 Off |                    0 |\n",
            "| N/A   35C    P0    27W / 250W |      0MiB / 16280MiB |      0%      Default |\n",
            "|                               |                      |                 ERR! |\n",
            "+-------------------------------+----------------------+----------------------+\n",
            "                                                                               \n",
            "+-----------------------------------------------------------------------------+\n",
            "| Processes:                                                                  |\n",
            "|  GPU   GI   CI        PID   Type   Process name                  GPU Memory |\n",
            "|        ID   ID                                                   Usage      |\n",
            "|=============================================================================|\n",
            "|  No running processes found                                                 |\n",
            "+-----------------------------------------------------------------------------+\n",
            "Wed Sep  2 11:00:27 2020       \n",
            "+-----------------------------------------------------------------------------+\n",
            "| NVIDIA-SMI 450.66       Driver Version: 418.67       CUDA Version: 10.1     |\n",
            "|-------------------------------+----------------------+----------------------+\n",
            "| GPU  Name        Persistence-M| Bus-Id        Disp.A | Volatile Uncorr. ECC |\n",
            "| Fan  Temp  Perf  Pwr:Usage/Cap|         Memory-Usage | GPU-Util  Compute M. |\n",
            "|                               |                      |               MIG M. |\n",
            "|===============================+======================+======================|\n",
            "|   0  Tesla P100-PCIE...  Off  | 00000000:00:04.0 Off |                    0 |\n",
            "| N/A   35C    P0    27W / 250W |      0MiB / 16280MiB |      0%      Default |\n",
            "|                               |                      |                 ERR! |\n",
            "+-------------------------------+----------------------+----------------------+\n",
            "                                                                               \n",
            "+-----------------------------------------------------------------------------+\n",
            "| Processes:                                                                  |\n",
            "|  GPU   GI   CI        PID   Type   Process name                  GPU Memory |\n",
            "|        ID   ID                                                   Usage      |\n",
            "|=============================================================================|\n",
            "|  No running processes found                                                 |\n",
            "+-----------------------------------------------------------------------------+\n"
          ],
          "name": "stdout"
        }
      ]
    },
    {
      "cell_type": "code",
      "metadata": {
        "id": "sYqETaeZZjhk",
        "colab_type": "code",
        "colab": {}
      },
      "source": [
        "\n",
        "## reference:https://qiita.com/mainvoidllll/items/db991dc30d3ddced6250\n",
        "##Edited by Ji Dang 2020.6.29\n",
        "\n",
        "# some libraries\n",
        "from keras.utils import np_utils\n",
        "from keras.models import Sequential\n",
        "from keras.layers.convolutional import MaxPooling2D\n",
        "from keras.layers import Activation, Conv2D, Flatten, Dense,Dropout\n",
        "from sklearn.model_selection import train_test_split\n",
        "from keras.optimizers import SGD, Adadelta, Adagrad, Adam, Adamax, RMSprop, Nadam\n",
        "from PIL import Image\n",
        "import numpy as np\n",
        "import glob\n",
        "import matplotlib.pyplot as plt\n",
        "import time\n",
        "import os"
      ],
      "execution_count": null,
      "outputs": []
    },
    {
      "cell_type": "code",
      "metadata": {
        "id": "5e_kZ3uSZjhu",
        "colab_type": "code",
        "colab": {}
      },
      "source": [
        "## some constant\n",
        "foldername=\"Pics\""
      ],
      "execution_count": null,
      "outputs": []
    },
    {
      "cell_type": "code",
      "metadata": {
        "id": "1bNUfiALZjhz",
        "colab_type": "code",
        "colab": {},
        "outputId": "040b7b3a-2ac4-4717-f479-34ca34acfbcb"
      },
      "source": [
        "def listdir_nohidden(path): #macでは.ds_dataなど見えないフォルダが存在するので、ここで除去\n",
        "    filelist=[]\n",
        "    for f in os.listdir(path):\n",
        "        if not f.startswith('.'):\n",
        "            filelist.append(f)\n",
        "    return filelist\n",
        "\n",
        "folder = listdir_nohidden(foldername)\n",
        "image_size = 50\n",
        "dense_size  = len(folder)\n",
        "print(folder)"
      ],
      "execution_count": null,
      "outputs": [
        {
          "output_type": "stream",
          "text": [
            "['Cracks', 'Corrosion']\n"
          ],
          "name": "stdout"
        }
      ]
    },
    {
      "cell_type": "code",
      "metadata": {
        "id": "AbGjH0fSZjh5",
        "colab_type": "code",
        "colab": {}
      },
      "source": [
        "X = []\n",
        "Y = []\n",
        "for index, name in enumerate(folder): #enumerate番号と配列を同時取得\n",
        "    dir = \"./\"+foldername+\"/\" + name\n",
        "    files = glob.glob(dir + \"/*.png\")\n",
        "    for i, file in enumerate(files):\n",
        "        image = Image.open(file)\n",
        "        image = image.convert(\"RGB\")\n",
        "        image = image.resize((image_size, image_size))\n",
        "        data = np.asarray(image)\n",
        "        X.append(data)\n",
        "        Y.append(index)\n",
        "\n",
        "X = np.array(X)\n",
        "Y = np.array(Y)\n",
        "X = X.astype('float32')\n",
        "X = X / 255.0\n",
        "\n",
        "Y = np_utils.to_categorical(Y, dense_size)#kerasの小道具箱np_utilsを活用\n",
        "X_train, X_test, y_train, y_test = train_test_split(X, Y, test_size=0.10) #sklearnを活用"
      ],
      "execution_count": null,
      "outputs": []
    },
    {
      "cell_type": "code",
      "metadata": {
        "id": "4RbQBSsoZjh8",
        "colab_type": "code",
        "colab": {}
      },
      "source": [
        "def CnnModel():\n",
        "    model = Sequential()\n",
        "    model.add(Conv2D(32, (3, 3), padding='same',input_shape=X_train.shape[1:]))\n",
        "    model.add(Activation('relu'))\n",
        "    model.add(Conv2D(32, (3, 3)))\n",
        "    model.add(Activation('relu'))\n",
        "    model.add(MaxPooling2D(pool_size=(2, 2)))\n",
        "    model.add(Dropout(0.25))\n",
        "\n",
        "    model.add(Conv2D(64, (3, 3), padding='same'))\n",
        "    model.add(Activation('relu'))\n",
        "    model.add(Conv2D(64, (3, 3)))\n",
        "    model.add(Activation('relu'))\n",
        "    model.add(MaxPooling2D(pool_size=(2, 2)))\n",
        "    model.add(Dropout(0.25))\n",
        "\n",
        "    model.add(Flatten())\n",
        "    model.add(Dense(512))\n",
        "    model.add(Activation('relu'))\n",
        "    model.add(Dropout(0.5))\n",
        "    model.add(Dense(dense_size))\n",
        "    model.add(Activation('softmax'))\n",
        "\n",
        "    model.summary()\n",
        "    return model"
      ],
      "execution_count": null,
      "outputs": []
    },
    {
      "cell_type": "code",
      "metadata": {
        "id": "XbLH9Yi3ZjiG",
        "colab_type": "code",
        "colab": {},
        "outputId": "7abbfef0-d88e-49b1-d04a-f1fa5fe5a9a7"
      },
      "source": [
        "model=CnnModel()\n",
        "#optimizers =\"Adadelta\"#hyperparameters:SGD, Adagrad, Adam, Adamax, RMSprop, Nadam\n",
        "optimizers=Adam(lr=0.0001)\n",
        "#SGD(lr=0.01, decay=1e-6, momentum=0.9, nesterov=True)\n",
        "results = {}\n",
        "epochs = 30     # using 100 or 200?\n",
        "model.compile(loss='categorical_crossentropy', optimizer=optimizers, metrics=['accuracy'])\n",
        "results= model.fit(X_train, y_train, validation_split=0.1, epochs=epochs )#<-training\n",
        "\n",
        "model_json_str = model.to_json()\n",
        "open('mnist_mlp_model.json', 'w').write(model_json_str)\n",
        "model.save_weights('mnist_mlp_weights.h5');"
      ],
      "execution_count": null,
      "outputs": [
        {
          "output_type": "stream",
          "text": [
            "Model: \"sequential_2\"\n",
            "_________________________________________________________________\n",
            "Layer (type)                 Output Shape              Param #   \n",
            "=================================================================\n",
            "conv2d_5 (Conv2D)            (None, 50, 50, 32)        896       \n",
            "_________________________________________________________________\n",
            "activation_7 (Activation)    (None, 50, 50, 32)        0         \n",
            "_________________________________________________________________\n",
            "conv2d_6 (Conv2D)            (None, 48, 48, 32)        9248      \n",
            "_________________________________________________________________\n",
            "activation_8 (Activation)    (None, 48, 48, 32)        0         \n",
            "_________________________________________________________________\n",
            "max_pooling2d_3 (MaxPooling2 (None, 24, 24, 32)        0         \n",
            "_________________________________________________________________\n",
            "dropout_4 (Dropout)          (None, 24, 24, 32)        0         \n",
            "_________________________________________________________________\n",
            "conv2d_7 (Conv2D)            (None, 24, 24, 64)        18496     \n",
            "_________________________________________________________________\n",
            "activation_9 (Activation)    (None, 24, 24, 64)        0         \n",
            "_________________________________________________________________\n",
            "conv2d_8 (Conv2D)            (None, 22, 22, 64)        36928     \n",
            "_________________________________________________________________\n",
            "activation_10 (Activation)   (None, 22, 22, 64)        0         \n",
            "_________________________________________________________________\n",
            "max_pooling2d_4 (MaxPooling2 (None, 11, 11, 64)        0         \n",
            "_________________________________________________________________\n",
            "dropout_5 (Dropout)          (None, 11, 11, 64)        0         \n",
            "_________________________________________________________________\n",
            "flatten_2 (Flatten)          (None, 7744)              0         \n",
            "_________________________________________________________________\n",
            "dense_3 (Dense)              (None, 512)               3965440   \n",
            "_________________________________________________________________\n",
            "activation_11 (Activation)   (None, 512)               0         \n",
            "_________________________________________________________________\n",
            "dropout_6 (Dropout)          (None, 512)               0         \n",
            "_________________________________________________________________\n",
            "dense_4 (Dense)              (None, 2)                 1026      \n",
            "_________________________________________________________________\n",
            "activation_12 (Activation)   (None, 2)                 0         \n",
            "=================================================================\n",
            "Total params: 4,032,034\n",
            "Trainable params: 4,032,034\n",
            "Non-trainable params: 0\n",
            "_________________________________________________________________\n",
            "Train on 1587 samples, validate on 177 samples\n",
            "Epoch 1/30\n",
            "1587/1587 [==============================] - 11s 7ms/step - loss: 0.6084 - accuracy: 0.6856 - val_loss: 0.5457 - val_accuracy: 0.7232\n",
            "Epoch 2/30\n",
            "1587/1587 [==============================] - 10s 6ms/step - loss: 0.3496 - accuracy: 0.8519 - val_loss: 0.4865 - val_accuracy: 0.7684\n",
            "Epoch 3/30\n",
            "1587/1587 [==============================] - 10s 6ms/step - loss: 0.2649 - accuracy: 0.8986 - val_loss: 0.3608 - val_accuracy: 0.8305\n",
            "Epoch 4/30\n",
            "1587/1587 [==============================] - 10s 6ms/step - loss: 0.2492 - accuracy: 0.9042 - val_loss: 0.4060 - val_accuracy: 0.8023\n",
            "Epoch 5/30\n",
            "1587/1587 [==============================] - 10s 6ms/step - loss: 0.2373 - accuracy: 0.9042 - val_loss: 0.3498 - val_accuracy: 0.8475\n",
            "Epoch 6/30\n",
            "1587/1587 [==============================] - 10s 6ms/step - loss: 0.2244 - accuracy: 0.9124 - val_loss: 0.3238 - val_accuracy: 0.8701\n",
            "Epoch 7/30\n",
            "1587/1587 [==============================] - 10s 6ms/step - loss: 0.2146 - accuracy: 0.9219 - val_loss: 0.3217 - val_accuracy: 0.8531\n",
            "Epoch 8/30\n",
            "1587/1587 [==============================] - 10s 6ms/step - loss: 0.2039 - accuracy: 0.9244 - val_loss: 0.2812 - val_accuracy: 0.8757\n",
            "Epoch 9/30\n",
            "1587/1587 [==============================] - 10s 7ms/step - loss: 0.1967 - accuracy: 0.9225 - val_loss: 0.3295 - val_accuracy: 0.8588\n",
            "Epoch 10/30\n",
            "1587/1587 [==============================] - 10s 6ms/step - loss: 0.1936 - accuracy: 0.9212 - val_loss: 0.2703 - val_accuracy: 0.8870\n",
            "Epoch 11/30\n",
            "1587/1587 [==============================] - 10s 6ms/step - loss: 0.1874 - accuracy: 0.9294 - val_loss: 0.2431 - val_accuracy: 0.8927\n",
            "Epoch 12/30\n",
            "1587/1587 [==============================] - 10s 6ms/step - loss: 0.1782 - accuracy: 0.9263 - val_loss: 0.2528 - val_accuracy: 0.8814\n",
            "Epoch 13/30\n",
            "1587/1587 [==============================] - 10s 6ms/step - loss: 0.1893 - accuracy: 0.9238 - val_loss: 0.2746 - val_accuracy: 0.8701\n",
            "Epoch 14/30\n",
            "1587/1587 [==============================] - 10s 7ms/step - loss: 0.1687 - accuracy: 0.9313 - val_loss: 0.2389 - val_accuracy: 0.8927\n",
            "Epoch 15/30\n",
            "1587/1587 [==============================] - 10s 7ms/step - loss: 0.1580 - accuracy: 0.9332 - val_loss: 0.2237 - val_accuracy: 0.8983\n",
            "Epoch 16/30\n",
            "1587/1587 [==============================] - 10s 6ms/step - loss: 0.1561 - accuracy: 0.9364 - val_loss: 0.2358 - val_accuracy: 0.8814\n",
            "Epoch 17/30\n",
            "1587/1587 [==============================] - 10s 6ms/step - loss: 0.1538 - accuracy: 0.9345 - val_loss: 0.2388 - val_accuracy: 0.9096\n",
            "Epoch 18/30\n",
            "1587/1587 [==============================] - 10s 6ms/step - loss: 0.1542 - accuracy: 0.9420 - val_loss: 0.2407 - val_accuracy: 0.8870\n",
            "Epoch 19/30\n",
            "1587/1587 [==============================] - 10s 6ms/step - loss: 0.1499 - accuracy: 0.9313 - val_loss: 0.2912 - val_accuracy: 0.8870\n",
            "Epoch 20/30\n",
            "1587/1587 [==============================] - 10s 6ms/step - loss: 0.1502 - accuracy: 0.9427 - val_loss: 0.2059 - val_accuracy: 0.9096\n",
            "Epoch 21/30\n",
            "1587/1587 [==============================] - 10s 6ms/step - loss: 0.1320 - accuracy: 0.9464 - val_loss: 0.3018 - val_accuracy: 0.8814\n",
            "Epoch 22/30\n",
            "1587/1587 [==============================] - 10s 6ms/step - loss: 0.1597 - accuracy: 0.9376 - val_loss: 0.1993 - val_accuracy: 0.9040\n",
            "Epoch 23/30\n",
            "1587/1587 [==============================] - 10s 6ms/step - loss: 0.1322 - accuracy: 0.9471 - val_loss: 0.2360 - val_accuracy: 0.8757\n",
            "Epoch 24/30\n",
            "1587/1587 [==============================] - 10s 6ms/step - loss: 0.1232 - accuracy: 0.9534 - val_loss: 0.2059 - val_accuracy: 0.8983\n",
            "Epoch 25/30\n",
            "1587/1587 [==============================] - 10s 6ms/step - loss: 0.1266 - accuracy: 0.9559 - val_loss: 0.1999 - val_accuracy: 0.9040\n",
            "Epoch 26/30\n",
            "1587/1587 [==============================] - 10s 6ms/step - loss: 0.1175 - accuracy: 0.9572 - val_loss: 0.2040 - val_accuracy: 0.8983\n",
            "Epoch 27/30\n",
            "1587/1587 [==============================] - 10s 6ms/step - loss: 0.1099 - accuracy: 0.9616 - val_loss: 0.1849 - val_accuracy: 0.9266\n",
            "Epoch 28/30\n",
            "1587/1587 [==============================] - 10s 6ms/step - loss: 0.1141 - accuracy: 0.9546 - val_loss: 0.1830 - val_accuracy: 0.9153\n",
            "Epoch 29/30\n",
            "1587/1587 [==============================] - 11s 7ms/step - loss: 0.1055 - accuracy: 0.9565 - val_loss: 0.2501 - val_accuracy: 0.8870\n",
            "Epoch 30/30\n",
            "1587/1587 [==============================] - 10s 7ms/step - loss: 0.1097 - accuracy: 0.9590 - val_loss: 0.1692 - val_accuracy: 0.9096\n"
          ],
          "name": "stdout"
        }
      ]
    },
    {
      "cell_type": "code",
      "metadata": {
        "id": "9nGlVSaAZjiI",
        "colab_type": "code",
        "colab": {},
        "outputId": "8a8ff0ac-3a6e-4acd-d5e1-ecdf7b1812e8"
      },
      "source": [
        "# visuliazation of training\n",
        "x = range(epochs)\n",
        "plt.plot(x,results.history['loss'],color='blue',label='train_loss',linestyle = \"dashed\")\n",
        "plt.plot(x,results.history['val_loss'],color='green',label='val_loss',linestyle = \"dashed\")\n",
        "plt.plot(x,results.history['accuracy'],color='blue',label='train_accuracy')\n",
        "plt.plot(x,results.history['val_accuracy'],color='green',label='val_accuracy')\n",
        "plt.legend()\n",
        "\n",
        "\n",
        "name = 'val_acc.jpg'\n",
        "plt.savefig(name, bbox_inches='tight')\n"
      ],
      "execution_count": null,
      "outputs": [
        {
          "output_type": "display_data",
          "data": {
            "image/png": "[encoded data removed]",
            "text/plain": [
              "<Figure size 432x288 with 1 Axes>"
            ]
          },
          "metadata": {
            "tags": [],
            "needs_background": "light"
          }
        }
      ]
    },
    {
      "cell_type": "code",
      "metadata": {
        "id": "RH2N8-5kZjiL",
        "colab_type": "code",
        "colab": {},
        "outputId": "f3309162-2065-42bb-83ea-9a71be774ccb"
      },
      "source": [
        "#reference:https://medium.com/@manasnarkar/image-classification-with-convolution-neural-networks-cnn-with-keras-dbd71c05ed2a\n",
        "\n",
        "\n",
        "test_loss, test_acc = model.evaluate(X_test, y_test)"
      ],
      "execution_count": null,
      "outputs": [
        {
          "output_type": "stream",
          "text": [
            "196/196 [==============================] - 0s 2ms/step\n"
          ],
          "name": "stdout"
        }
      ]
    },
    {
      "cell_type": "code",
      "metadata": {
        "id": "JpcluSvIZjiN",
        "colab_type": "code",
        "colab": {},
        "outputId": "ecb05a27-0bfa-4ef4-9463-c34ba68b2f2f"
      },
      "source": [
        "print(test_acc)"
      ],
      "execution_count": null,
      "outputs": [
        {
          "output_type": "stream",
          "text": [
            "0.918367326259613\n"
          ],
          "name": "stdout"
        }
      ]
    },
    {
      "cell_type": "code",
      "metadata": {
        "id": "tOHG_aWfZjiP",
        "colab_type": "code",
        "colab": {},
        "outputId": "bd7ee584-f78a-4513-bf2b-b00cd00d0ac8"
      },
      "source": [
        "from sklearn.metrics import confusion_matrix\n",
        "import itertools\n",
        "def plot_confusion_matrix(cm, classes,\n",
        "                          normalize=False,\n",
        "                          title='Confusion matrix',\n",
        "                          cmap=plt.cm.Blues):\n",
        "    \"\"\"\n",
        "    This function prints and plots the confusion matrix.\n",
        "    Normalization can be applied by setting `normalize=True`.\n",
        "    \"\"\"\n",
        "    if normalize:\n",
        "        cm = cm.astype('float') / cm.sum(axis=1)[:, np.newaxis]\n",
        "        print(\"Normalized confusion matrix\")\n",
        "    else:\n",
        "        print('Confusion matrix, without normalization')\n",
        "\n",
        "    print(cm)\n",
        "\n",
        "    plt.imshow(cm, interpolation='nearest', cmap=cmap)\n",
        "    plt.title(title)\n",
        "    plt.colorbar()\n",
        "    tick_marks = np.arange(len(classes))\n",
        "    plt.xticks(tick_marks, classes, rotation=45)\n",
        "    plt.yticks(tick_marks, classes)\n",
        "\n",
        "    fmt = '.2f' if normalize else 'd'\n",
        "    thresh = cm.max() / 2.\n",
        "    for i, j in itertools.product(range(cm.shape[0]), range(cm.shape[1])):\n",
        "        plt.text(j, i, format(cm[i, j], fmt),\n",
        "                 horizontalalignment=\"center\",\n",
        "                 color=\"white\" if cm[i, j] > thresh else \"black\")\n",
        "\n",
        "    plt.tight_layout()\n",
        "    plt.ylabel('True label')\n",
        "    plt.xlabel('Predicted label')\n",
        "    plt.savefig('confutionmatrix.jpg')\n",
        "\n",
        "\n",
        "pred_y = model.predict(X_test)\n",
        "pred_y_classes = np.argmax(pred_y,axis = 1) \n",
        "tue_y= np.argmax(y_test,axis = 1) \n",
        "confusion_mtx = confusion_matrix(tue_y, pred_y_classes) \n",
        "plot_confusion_matrix(confusion_mtx, classes = folder) \n",
        "\n",
        "# reference:http://kinpatucom821.hatenablog.com/entry/2018/08/30/215419"
      ],
      "execution_count": null,
      "outputs": [
        {
          "output_type": "stream",
          "text": [
            "Confusion matrix, without normalization\n",
            "[[90 12]\n",
            " [ 4 90]]\n"
          ],
          "name": "stdout"
        },
        {
          "output_type": "display_data",
          "data": {
            "image/png": "[encoded data removed]",
            "text/plain": [
              "<Figure size 432x288 with 2 Axes>"
            ]
          },
          "metadata": {
            "tags": [],
            "needs_background": "light"
          }
        }
      ]
    },
    {
      "cell_type": "code",
      "metadata": {
        "id": "AV0tG9UmZjiR",
        "colab_type": "code",
        "colab": {}
      },
      "source": [
        ""
      ],
      "execution_count": null,
      "outputs": []
    }
  ]
}